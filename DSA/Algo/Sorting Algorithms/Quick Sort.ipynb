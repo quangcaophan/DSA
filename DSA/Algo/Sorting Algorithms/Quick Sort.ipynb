{
 "cells": [
  {
   "cell_type": "markdown",
   "metadata": {},
   "source": [
    "# Introduction to Quick Sort\n",
    "The quick sort algorithm selects the last element of the list as the pivot and partitions the remaining elements into two sub-lists: those less than the pivot and those greater than the pivot.\n",
    "\n",
    "The sub-lists are then sorted recursively.\n",
    "\n",
    "Note: We have defined the last element as the pivot. However, you can choose any element as the pivot (first, last, or middle element).\n"
   ]
  },
  {
   "cell_type": "markdown",
   "metadata": {},
   "source": [
    "![ChessUrl](https://www.crio.do/blog/content/images/2021/12/Quick-Sort-1.gif \"Bubble Sort\")"
   ]
  },
  {
   "cell_type": "code",
   "execution_count": 1,
   "metadata": {},
   "outputs": [
    {
     "name": "stdout",
     "output_type": "stream",
     "text": [
      "Unsorted List: [7, 2, 1, 6, 8, 5, 3, 4]\n",
      "Sorted List:  [1, 2, 3, 4, 5, 6, 7, 8]\n"
     ]
    }
   ],
   "source": [
    "def quick_sort(lst):\n",
    "    length = len(lst)\n",
    "\n",
    "    if length <= 1:\n",
    "        return lst\n",
    "    else:\n",
    "        pivot = lst.pop()\n",
    "\n",
    "    element_greater = []\n",
    "    element_smaller = []\n",
    "\n",
    "    for e in lst:\n",
    "        if e > pivot:\n",
    "            element_greater.append(e)\n",
    "        else:\n",
    "            element_smaller.append(e)\n",
    "    \n",
    "    return quick_sort(element_smaller) + [pivot] + quick_sort(element_greater)\n",
    "\n",
    "list1 = [7, 2, 1, 6, 8, 5, 3, 4]\n",
    "print(f\"Unsorted List: {list1}\")\n",
    " \n",
    "sorted_list = quick_sort(list1)\n",
    "print(f\"Sorted List:  {sorted_list}\")"
   ]
  },
  {
   "cell_type": "code",
   "execution_count": 6,
   "metadata": {},
   "outputs": [
    {
     "name": "stdout",
     "output_type": "stream",
     "text": [
      "[1, 2, 3, 4, 5, 6, 7, 8]\n"
     ]
    }
   ],
   "source": [
    "def quick_sort(lst):\n",
    "    length = len(lst)\n",
    "    if length <= 1:\n",
    "        return lst\n",
    "    else:\n",
    "        # choose the middle element as pivot\n",
    "        pivot = lst.pop(length // 2)\n",
    "     \n",
    "    elements_greater = []\n",
    "    elements_smaller = []\n",
    "\n",
    "    for element in lst:\n",
    "        \n",
    "        if element > pivot:\n",
    "            elements_greater.append(element)\n",
    "        else:\n",
    "            elements_smaller.append(element)\n",
    "\n",
    "    return quick_sort(elements_smaller) + [pivot] + quick_sort(elements_greater)\n",
    "\n",
    "data_list = [7, 2, 1, 6, 8, 5, 3, 4]\n",
    "\n",
    "sorted_list = quick_sort(data_list)\n",
    "print(sorted_list)"
   ]
  },
  {
   "cell_type": "markdown",
   "metadata": {},
   "source": [
    "# Time Complexity\n",
    "As recursion is used in quick sort, we need to use the master theorem to find its complexity.\n",
    "\n",
    "To learn more about how the master theorem is used in calculating the time complexity of recurrence relations, refer to our Complexity Calculation course.\n",
    "\n",
    "Best Case: O(n log n)\n",
    "Average Case: O(n log n)\n",
    "Worst Case: O(n2)\n",
    "\n",
    "# Space Complexity\n",
    "The space complexity for quick sort is O(log n).\n",
    "\n",
    "This is due to the maximum depth of the recursion tree, which is determined by the number of times the input list can be divided in half.\n",
    "\n",
    "# Applications of Quick Sort\n",
    "When to use quick sort?\n",
    "\n",
    "Use quick sort for quickly sorting large datasets. It's efficient and works best when dealing with diverse data.\n",
    "\n",
    "When not to use quick sort?\n",
    "\n",
    "Avoid quick sort if you need a sorting algorithm that maintains the order of equal elements. Also, quick sort can be slow in worst-case scenarios.\n",
    "\n",
    "Therefore, if worst-case time complexity is important, consider using merge sort instead.\n",
    "\n"
   ]
  }
 ],
 "metadata": {
  "kernelspec": {
   "display_name": "Python 3",
   "language": "python",
   "name": "python3"
  },
  "language_info": {
   "codemirror_mode": {
    "name": "ipython",
    "version": 3
   },
   "file_extension": ".py",
   "mimetype": "text/x-python",
   "name": "python",
   "nbconvert_exporter": "python",
   "pygments_lexer": "ipython3",
   "version": "3.11.4"
  }
 },
 "nbformat": 4,
 "nbformat_minor": 2
}
