{
 "cells": [
  {
   "cell_type": "markdown",
   "metadata": {},
   "source": [
    "# Introduction\n",
    "Bubble sort works by repeatedly comparing two adjacent elements and swapping them if they are not in the correct order."
   ]
  },
  {
   "cell_type": "markdown",
   "metadata": {},
   "source": [
    "![ChessUrl](https://www.crio.do/blog/content/images/2021/12/Bubble-Sort-2.gif \"Bubble Sort\")"
   ]
  },
  {
   "cell_type": "code",
   "execution_count": 7,
   "metadata": {},
   "outputs": [
    {
     "name": "stdout",
     "output_type": "stream",
     "text": [
      "Unsorted List: [15, 16, 6, 8, 5]\n",
      "Sorted List: [5, 6, 8, 15, 16]\n"
     ]
    }
   ],
   "source": [
    "# Source Code: Bubble Sort\n",
    "def bubble_sort(lst):\n",
    "  for i in range(len(lst)):\n",
    "    for j in range(len(lst)-1):\n",
    "      if lst[j] > lst[j+1]:\n",
    "        lst[j], lst[j+1] = lst[j+1], lst[j]\n",
    "  return lst\n",
    "\n",
    "data_list = [15,16,6,8,5]\n",
    "print(f'Unsorted List: {data_list}')\n",
    "\n",
    "sorted_list = bubble_sort(data_list)\n",
    "print(f'Sorted List: {sorted_list}')"
   ]
  },
  {
   "cell_type": "markdown",
   "metadata": {},
   "source": [
    "# Optimized Bubble Sort Algorithm"
   ]
  },
  {
   "cell_type": "code",
   "execution_count": 14,
   "metadata": {},
   "outputs": [
    {
     "name": "stdout",
     "output_type": "stream",
     "text": [
      "Unsorted List [4, 6, 99, 45, 0]\n",
      "Sorted List [0, 4, 6, 45, 99]\n"
     ]
    }
   ],
   "source": [
    "def bubble_sort(lst):\n",
    "\n",
    "  for i in range(len(lst)-1):\n",
    "    swapped = False\n",
    "    for j in range(len(lst) -1 -i):\n",
    "      if lst[j] > lst[j+1]:\n",
    "        lst[j], lst[j+1] = lst[j+1], lst[j]\n",
    "        swapped = True\n",
    "    if not swapped:\n",
    "      break\n",
    "\n",
    "  return lst\n",
    "\n",
    "data = [4,6,99,45,0]\n",
    "print(f'Unsorted List {data}')\n",
    "\n",
    "sorted_list = bubble_sort(data)\n",
    "print(f'Sorted List {sorted_list}')\n"
   ]
  },
  {
   "cell_type": "markdown",
   "metadata": {},
   "source": [
    "# Time Complexity of Bubble Sort\n",
    "Let's say we have a list with a total of 8 elements.\n",
    "\n",
    "Here's the breakdown of comparisons for each iteration:\n",
    "\n",
    "- First Iteration - 7 comparisons\n",
    "- Second Iteration - 6 comparisons\n",
    "- Third Iteration - 5 comparisons and so on\n",
    "\n",
    "The total number of comparisons will be 7 + 6 + 5 + 4 + 3 + 2 + 1.\n",
    "\n",
    "Hence, for n elements in a list, the total number of comparisons will be:\n",
    "\n",
    "The time complexity of comparison-based sorting algorithms is based on the number of comparisons. Therefore, the time complexity is:\n",
    "\n",
    "Comparison(C) = (n-1)+(n-2)+(n-3)+...+ 2 + 1\n",
    "= n(n-1)/2\n",
    "= n2\n",
    "\n",
    "- Time complexity=O(n2)\n",
    "- Worst Case Complexity: O(n2)\n",
    "- Average Case Complexity: O(n2)\n",
    "- Best Case Complexity: O(n)\n",
    "\n",
    "# Space Complexity\n",
    "The space complexity of the bubble sort is O(1) because it only requires a constant amount of additional space for its variables.\n",
    "\n",
    "# Applications of Bubble Sort\n",
    "When to use bubble sort?\n",
    "\n",
    "Use bubble sort for\n",
    "\n",
    "- Small datasets.\n",
    "- When simplicity is more important than efficiency.\n",
    "- When the data is already partially sorted.\n",
    "\n",
    "When not to use bubble sort?\n",
    "\n",
    "Avoid bubble sort for large datasets and performance-critical applications.\n",
    "\n",
    "In such cases, sorting algorithms like merge sort or quick sort are more suitable.\n",
    "\n",
    "\n"
   ]
  }
 ],
 "metadata": {
  "kernelspec": {
   "display_name": "Python 3",
   "language": "python",
   "name": "python3"
  },
  "language_info": {
   "codemirror_mode": {
    "name": "ipython",
    "version": 3
   },
   "file_extension": ".py",
   "mimetype": "text/x-python",
   "name": "python",
   "nbconvert_exporter": "python",
   "pygments_lexer": "ipython3",
   "version": "3.11.4"
  }
 },
 "nbformat": 4,
 "nbformat_minor": 2
}
