{
 "cells": [
  {
   "cell_type": "code",
   "execution_count": 1,
   "metadata": {},
   "outputs": [
    {
     "name": "stdout",
     "output_type": "stream",
     "text": [
      "2\n",
      "None\n",
      "None\n"
     ]
    }
   ],
   "source": [
    "# Create a Node\n",
    "class Node:\n",
    "    def __init__(self, data):\n",
    "        # initialize a node with data and prev and next pointer\n",
    "        self.data = data\n",
    "        self.next = None\n",
    "        # doubly linked list also has a prev pointer\n",
    "        self.prev = None\n",
    "        \n",
    "node1 = Node(2)\n",
    "print(node1.data)\n",
    "print(node1.next)\n",
    "print(node1.prev)"
   ]
  },
  {
   "cell_type": "code",
   "execution_count": null,
   "metadata": {},
   "outputs": [],
   "source": [
    "# Doubly Linked List\n",
    "class Node:\n",
    "    def __init__(self, data):\n",
    "        self.prev = None\n",
    "        self.data = data\n",
    "        self.next = None\n",
    "\n",
    "class DoublyLinkedList:\n",
    "    def __init__(self):\n",
    "        self.head = None\n",
    "        self.tail = None\n",
    "\n",
    "    # create doubly linked list\n",
    "    def create_linked_list(self):\n",
    "        # add first node\n",
    "        node1 = Node(80)\n",
    "        # both head and tail is the first node\n",
    "        self.head = node1\n",
    "        self.tail = node1\n",
    "\n",
    "        # add second node\n",
    "        node2 = Node(9)\n",
    "        # update the pointers\n",
    "        node1.next = node2\n",
    "        node2.prev = node1\n",
    "        # node2 becomes the new tail\n",
    "        self.tail = node2\n",
    "\n",
    "        # add third node\n",
    "        node3 = Node(14)\n",
    "        # update the pointers\n",
    "        node2.next = node3\n",
    "        node3.prev = node2\n",
    "        # node3 becomes the new tail\n",
    "        self.tail = node3\n",
    "\n",
    "linked_list = DoublyLinkedList()\n",
    "linked_list.create_linked_list()"
   ]
  },
  {
   "cell_type": "code",
   "execution_count": 3,
   "metadata": {},
   "outputs": [
    {
     "name": "stdout",
     "output_type": "stream",
     "text": [
      "None <-> 1 <-> 2 <-> 3 <-> 4 <-> None\n"
     ]
    }
   ],
   "source": [
    "class Node:\n",
    "    def __init__(self, data):\n",
    "        self.prev = None\n",
    "        self.data = data\n",
    "        self.next = None\n",
    "\n",
    "class DoublyLinkedList:\n",
    "    def __init__(self):\n",
    "        self.head = None\n",
    "        self.tail = None\n",
    "\n",
    "    # create doubly linked list\n",
    "    def create_linked_list(self):\n",
    "        \n",
    "        # take four inputs\n",
    "        data1 = int(input())\n",
    "        data2 = int(input())\n",
    "        data3 = int(input())\n",
    "        data4 = int(input())\n",
    "\n",
    "        # create four nodes\n",
    "        node1 = Node(data1)\n",
    "        node2 = Node(data2)\n",
    "        node3 = Node(data3)\n",
    "        node4 = Node(data4)\n",
    "        \n",
    "        # set head and tail\n",
    "        self.head = node1\n",
    "        self.tail = node4\n",
    "\n",
    "        # link the nodes\n",
    "        node1.next = node2\n",
    "        node2.prev = node1\n",
    "\n",
    "        node2.next = node3\n",
    "        node3.prev = node2\n",
    "\n",
    "        node3.next = node4\n",
    "        node4.prev = node3\n",
    "\n",
    "    # traverse the linked list\n",
    "    def traverse(self):\n",
    "        # start at head\n",
    "        current = self.head\n",
    "        print(\"None <-> \", end = \"\")\n",
    "        # loop until the node is None\n",
    "        while current is not None:\n",
    "            print(current.data, end = \" <-> \") \n",
    "            current = current.next\n",
    "        print(\"None\")\n",
    "\n",
    "linked_list = DoublyLinkedList()\n",
    "linked_list.create_linked_list()\n",
    "linked_list.traverse()"
   ]
  },
  {
   "cell_type": "markdown",
   "metadata": {},
   "source": [
    "# Time Complexity for Traversal\n",
    "Traversal in a doubly linked list requires visiting every node exactly once. Hence,\n",
    "\n",
    "Time Complexity: O(n)\n",
    "\n"
   ]
  },
  {
   "cell_type": "code",
   "execution_count": 4,
   "metadata": {},
   "outputs": [
    {
     "name": "stdout",
     "output_type": "stream",
     "text": [
      "None <-> 80 <-> 9 <-> 14 <-> None\n",
      "None <-> 14 <-> 9 <-> 80 <-> None\n"
     ]
    }
   ],
   "source": [
    "# Reverse Traversal\n",
    "class Node:\n",
    "    def __init__(self, data):\n",
    "        self.prev = None\n",
    "        self.data = data\n",
    "        self.next = None\n",
    "\n",
    "class DoublyLinkedList:\n",
    "    def __init__(self):\n",
    "        self.head = None\n",
    "        self.tail = None\n",
    "\n",
    "    # create doubly linked list\n",
    "    def create_linked_list(self):\n",
    "        # add first node\n",
    "        node1 = Node(80)\n",
    "        # both head and tail is the first node\n",
    "        self.head = node1\n",
    "        self.tail = node1\n",
    "\n",
    "        # add second node\n",
    "        node2 = Node(9)\n",
    "        # update the pointers\n",
    "        node1.next = node2\n",
    "        node2.prev = node1\n",
    "        # node2 becomes the new tail\n",
    "        self.tail = node2\n",
    "\n",
    "        # add third node\n",
    "        node3 = Node(14)\n",
    "        # update the pointers\n",
    "        node2.next = node3\n",
    "        node3.prev = node2\n",
    "        # node3 becomes the new tail\n",
    "        self.tail = node3\n",
    "    \n",
    "    #  traverse the linked list\n",
    "    def traverse(self):\n",
    "        # start at head\n",
    "        current = self.head\n",
    "        print(\"None\", end = \" <-> \")\n",
    "        # loop until the node is None\n",
    "        while current is not None:\n",
    "            print(f\"{current.data} <-> \", end=\"\") \n",
    "            current = current.next\n",
    "        print(\"None\")\n",
    "    # reverse traverse the linked list\n",
    "    def reverse_traverse(self):\n",
    "        # start at tail\n",
    "        current = self.tail\n",
    "        print(\"None\", end = \" <-> \")\n",
    "        # loop until node is None\n",
    "        while current is not None:\n",
    "            print(f\"{current.data} <-> \", end=\"\") \n",
    "            current = current.prev\n",
    "        print(\"None\")\n",
    "\n",
    "\n",
    "linked_list = DoublyLinkedList()\n",
    "linked_list.create_linked_list()\n",
    "linked_list.traverse()\n",
    "linked_list.reverse_traverse()"
   ]
  },
  {
   "cell_type": "markdown",
   "metadata": {},
   "source": [
    "# Time Complexity for Reverse Traversal\n",
    "Reverse Traversal in a doubly linked list requires visiting every node exactly once. Hence,\n",
    "\n",
    "Time Complexity: O(n)\n",
    "\n"
   ]
  },
  {
   "cell_type": "code",
   "execution_count": 6,
   "metadata": {},
   "outputs": [
    {
     "name": "stdout",
     "output_type": "stream",
     "text": [
      "10\n"
     ]
    }
   ],
   "source": [
    "# Sum of Nodes\n",
    "\n",
    "# create Node for linked list\n",
    "class Node:\n",
    "    def __init__(self, data):\n",
    "        self.data = data\n",
    "        self.next = None\n",
    "        \n",
    "# create a Linked_List class\n",
    "class Linked_List:\n",
    "    def __init__(self):\n",
    "        self.head = None\n",
    "\n",
    "    def create_linked_list(self):\n",
    "        data = list(map(int, input().split()))\n",
    "        nodes = [Node(i) for i in data]\n",
    "        self.head = nodes[0]\n",
    "        for i, node in enumerate(nodes):\n",
    "            node.next = nodes[(i+1)%len(nodes)]\n",
    "\n",
    "    def compute_sum(self):\n",
    "        # return 0 if no elements in linked list\n",
    "        if self.head is None:\n",
    "            return 0\n",
    "        # start from head\n",
    "        current = self.head\n",
    "        # initialize sum at 0\n",
    "        total = 0\n",
    "        while current.next is not self.head:\n",
    "            # add to the sum.\n",
    "            total += current.data\n",
    "            current = current.next\n",
    "        total += current.data\n",
    "        return total\n",
    "        \n",
    "# create object of linked list\n",
    "linked_list = Linked_List()\n",
    "linked_list.create_linked_list()\n",
    "print(linked_list.compute_sum())"
   ]
  }
 ],
 "metadata": {
  "kernelspec": {
   "display_name": "Python 3",
   "language": "python",
   "name": "python3"
  },
  "language_info": {
   "codemirror_mode": {
    "name": "ipython",
    "version": 3
   },
   "file_extension": ".py",
   "mimetype": "text/x-python",
   "name": "python",
   "nbconvert_exporter": "python",
   "pygments_lexer": "ipython3",
   "version": "3.11.4"
  }
 },
 "nbformat": 4,
 "nbformat_minor": 2
}
